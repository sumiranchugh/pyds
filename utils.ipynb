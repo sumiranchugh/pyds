{
  "nbformat": 4,
  "nbformat_minor": 0,
  "metadata": {
    "colab": {
      "name": "Untitled0.ipynb",
      "version": "0.3.2",
      "provenance": [],
      "include_colab_link": true
    },
    "kernelspec": {
      "name": "python3",
      "display_name": "Python 3"
    }
  },
  "cells": [
    {
      "cell_type": "markdown",
      "metadata": {
        "id": "view-in-github",
        "colab_type": "text"
      },
      "source": [
        "<a href=\"https://colab.research.google.com/github/sumiranchugh/pyds/blob/master/utils.ipynb\" target=\"_parent\"><img src=\"https://colab.research.google.com/assets/colab-badge.svg\" alt=\"Open In Colab\"/></a>"
      ]
    },
    {
      "cell_type": "code",
      "metadata": {
        "id": "WzrFFi2CKagj",
        "colab_type": "code",
        "colab": {}
      },
      "source": [
        "import matplotlib.pyplot as plt\n",
        "from numpy.random import seed\n",
        "from numpy.random import randint\n",
        "import time\n",
        "\n",
        "seed(1)\n",
        "\n",
        "def plot(x,y):\n",
        "  print(y)\n",
        "  print(x)\n",
        "  plt.plot(x,y,'ro', linestyle='dashed',linewidth=1, markersize=5)\n",
        "  plt.ylabel('time ms')\n",
        "  plt.xlabel('input samples')\n",
        "  plt.show()"
      ],
      "execution_count": 0,
      "outputs": []
    },
    {
      "cell_type": "code",
      "metadata": {
        "id": "O05W2482RnHE",
        "colab_type": "code",
        "colab": {}
      },
      "source": [
        "\n",
        "def playrand_array(obj):\n",
        "  y=[]\n",
        "  x=[]\n",
        "  for i in range(100000, 400000, 20000):\n",
        "    x.append(i)\n",
        "    arr = randint(0, 100, i)\n",
        "    start = time.time()\n",
        "    obj.execute(arr)\n",
        "    end = time.time()\n",
        "    y.append(float(end-start))\n",
        "  plot(x,y)  \n",
        "  "
      ],
      "execution_count": 0,
      "outputs": []
    },
    {
      "cell_type": "code",
      "metadata": {
        "id": "pU7n7waAwrWh",
        "colab_type": "code",
        "colab": {
          "base_uri": "https://localhost:8080/",
          "height": 337
        },
        "outputId": "674a10d5-f532-4d91-aade-0af1deba6c1a"
      },
      "source": [
        "playrand_array(MergeSort())"
      ],
      "execution_count": 9,
      "outputs": [
        {
          "output_type": "stream",
          "text": [
            "[0.8042435646057129, 0.9631714820861816, 1.1532838344573975, 1.3089981079101562, 1.4767632484436035, 1.673030138015747, 1.8202297687530518, 2.002143621444702, 2.196834087371826, 2.3716111183166504, 2.560459852218628, 2.7125911712646484, 2.8900363445281982, 3.095663547515869, 3.2553904056549072]\n",
            "[100000, 120000, 140000, 160000, 180000, 200000, 220000, 240000, 260000, 280000, 300000, 320000, 340000, 360000, 380000]\n"
          ],
          "name": "stdout"
        },
        {
          "output_type": "display_data",
          "data": {
            "image/png": "[encoded data removed]",
            "text/plain": [
              "<Figure size 432x288 with 1 Axes>"
            ]
          },
          "metadata": {
            "tags": []
          }
        }
      ]
    }
  ]
}
